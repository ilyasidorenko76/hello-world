{
  "nbformat": 4,
  "nbformat_minor": 0,
  "metadata": {
    "kernelspec": {
      "display_name": "Python 3",
      "language": "python",
      "name": "python3"
    },
    "language_info": {
      "codemirror_mode": {
        "name": "ipython",
        "version": 3
      },
      "file_extension": ".py",
      "mimetype": "text/x-python",
      "name": "python",
      "nbconvert_exporter": "python",
      "pygments_lexer": "ipython3",
      "version": "3.7.1"
    },
    "colab": {
      "name": "Yandex_taxi_v4.ipynb",
      "version": "0.3.2",
      "provenance": [],
      "include_colab_link": true
    }
  },
  "cells": [
    {
      "cell_type": "markdown",
      "metadata": {
        "id": "view-in-github",
        "colab_type": "text"
      },
      "source": [
        "<a href=\"https://colab.research.google.com/github/ilyasidorenko76/hello-world/blob/master/Yandex_taxi_v4.ipynb\" target=\"_parent\"><img src=\"https://colab.research.google.com/assets/colab-badge.svg\" alt=\"Open In Colab\"/></a>"
      ]
    },
    {
      "cell_type": "code",
      "metadata": {
        "id": "8IXtum5ax7bb",
        "colab_type": "code",
        "colab": {}
      },
      "source": [
        "# clean\n",
        "\n",
        "import numpy as np\n",
        "from random import randint\n",
        "\n",
        "p=float(input())\n",
        "N=int(input())\n",
        "\n",
        "def get_A(n):\n",
        "    a = np.zeros((n, 3))\n",
        "    for r in range (0, n):\n",
        "        #a[r]=input().split(sep='\\t')[:3]\n",
        "        a[r]=np.array(list(map(float, input().split('\\t'))))\n",
        "    return(a)\n",
        "\n",
        "A = get_A(N)\n",
        "\n",
        "def plane_equation(x, y, z):    \n",
        "    a1 = y[0] - x[0] \n",
        "    b1 = y[1] - x[1] \n",
        "    c1 = y[2] - x[2] \n",
        "    a2 = z[0] - x[0] \n",
        "    b2 = z[1] - x[1] \n",
        "    c2 = z[2] - x[2] \n",
        "    a = b1 * c2 - b2 * c1 \n",
        "    b = a2 * c1 - a1 * c2 \n",
        "    c = a1 * b2 - b1 * a2 \n",
        "    d = (- a * x[0] - b * x[1] - c * x[2])\n",
        "    L = (a**2+b**2+c**2)**.5\n",
        "    return a, b, c, d, L\n",
        "\n",
        "for i_1 in range (1,N):\n",
        "    rand_1 = randint(1, (N-2))\n",
        "    rand_2 = randint(0, rand_1-1)\n",
        "    rand_3 = randint(rand_1+1, (N-1))\n",
        "    \n",
        "    a, b, c, d, L = plane_equation(A[rand_1], A[rand_2], A[rand_3])\n",
        "    \n",
        "    k=0\n",
        "    \n",
        "    for i_2 in range (0, N):\n",
        "        dist = abs(A[i_2][0]*a + A[i_2][1]*b + A[i_2][2]*c + d) / L\n",
        "\n",
        "        if dist <= p: k = k+1\n",
        "    \n",
        "    #print (\"k=\", k)\n",
        "    if k > abs(N/2)+1: break\n",
        "\n",
        "#print (\"Number of iterations=\", i_1, \", %=\", round(k/N,2))\n",
        "#print ()\n",
        "max_coeff = max(a, b, c, d)\n",
        "\n",
        "print('{:.6f} {:.6f} {:.6f} {:.6f} '.format(a/max_coeff, b/max_coeff, c/max_coeff, d/max_coeff))"
      ],
      "execution_count": 0,
      "outputs": []
    },
    {
      "cell_type": "code",
      "metadata": {
        "id": "ioMz0j69ilsW",
        "colab_type": "code",
        "colab": {}
      },
      "source": [
        "dsdsd"
      ],
      "execution_count": 0,
      "outputs": []
    },
    {
      "cell_type": "code",
      "metadata": {
        "id": "ydm8HqgUx7be",
        "colab_type": "code",
        "colab": {}
      },
      "source": [
        ""
      ],
      "execution_count": 0,
      "outputs": []
    },
    {
      "cell_type": "code",
      "metadata": {
        "id": "JULAU9Yhx7bh",
        "colab_type": "code",
        "colab": {}
      },
      "source": [
        ""
      ],
      "execution_count": 0,
      "outputs": []
    }
  ]
}